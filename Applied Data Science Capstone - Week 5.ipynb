{
 "cells": [
  {
   "cell_type": "markdown",
   "metadata": {
    "button": false,
    "new_sheet": false,
    "run_control": {
     "read_only": false
    }
   },
   "source": [
    "### Predicting Employee Renege with Logistic Regression"
   ]
  },
  {
   "cell_type": "markdown",
   "metadata": {},
   "source": [
    "There is a Bangalore based start-up providing talent acquisition solutions. An consultancy service agency advised it customers on talent acquisition practices and also implemented individually tailored solutions using analytics.\n",
    "The no. of people not joining the company after accepting the offer varies from 15% to 35%. If a company rolls out thousand offers then the impact of renege is significant.\n",
    "\n",
    "**Key Questions:**\n",
    "What are the key drivers that influence the candidate joining/not-joining the company?\n",
    "What rules can be used to predict the renege?\n",
    "Devising a predictive algorithm to calculate the possibility of acceptance of an offer and joining the company after offer acceptance stage"
   ]
  },
  {
   "cell_type": "markdown",
   "metadata": {},
   "source": [
    "\n"
   ]
  },
  {
   "cell_type": "markdown",
   "metadata": {
    "button": false,
    "new_sheet": false,
    "run_control": {
     "read_only": false
    }
   },
   "source": [
    "**Problem Statement:**\n",
    "Formulate a predictive algorithm to calculate the probability of acceptance of an offer and joining the company after acceptance stage.\n",
    "\n",
    "A binomial logistic regression (often referred to simply as logistic regression), predicts the probability that an observation falls into one of two categories of a dichotomous dependent variable based on one or more independent variables that can be either continuous or categorical. "
   ]
  },
  {
   "cell_type": "markdown",
   "metadata": {},
   "source": [
    "In our case –\n",
    "The Dependent Variable is “Status” of the candidate which is categorical –  Either the candidate will join or not join\n",
    "And the Independent Variables are –  DOJ Extended, Duration to accept offer, Notice period, Offered band, Percent hike expected in CTC, Percent hike offered in CTC, Percent difference CTC, Joining Bonus, Candidate relocate actual, Gender, Candidate Source, Rex in Yrs, LOB, Location and Age"
   ]
  },
  {
   "cell_type": "code",
   "execution_count": 1,
   "metadata": {},
   "outputs": [
    {
     "name": "stdout",
     "output_type": "stream",
     "text": [
      "Collecting scikit-learn==0.23.1\n",
      "\u001b[?25l  Downloading https://files.pythonhosted.org/packages/d9/3a/eb8d7bbe28f4787d140bb9df685b7d5bf6115c0e2a969def4027144e98b6/scikit_learn-0.23.1-cp36-cp36m-manylinux1_x86_64.whl (6.8MB)\n",
      "\u001b[K     |████████████████████████████████| 6.9MB 2.6MB/s eta 0:00:01\n",
      "\u001b[?25hRequirement already satisfied: scipy>=0.19.1 in /home/jupyterlab/conda/envs/python/lib/python3.6/site-packages (from scikit-learn==0.23.1) (1.5.3)\n",
      "Collecting threadpoolctl>=2.0.0 (from scikit-learn==0.23.1)\n",
      "  Downloading https://files.pythonhosted.org/packages/f7/12/ec3f2e203afa394a149911729357aa48affc59c20e2c1c8297a60f33f133/threadpoolctl-2.1.0-py3-none-any.whl\n",
      "Requirement already satisfied: numpy>=1.13.3 in /home/jupyterlab/conda/envs/python/lib/python3.6/site-packages (from scikit-learn==0.23.1) (1.19.5)\n",
      "Collecting joblib>=0.11 (from scikit-learn==0.23.1)\n",
      "\u001b[?25l  Downloading https://files.pythonhosted.org/packages/55/85/70c6602b078bd9e6f3da4f467047e906525c355a4dacd4f71b97a35d9897/joblib-1.0.1-py3-none-any.whl (303kB)\n",
      "\u001b[K     |████████████████████████████████| 307kB 8.1MB/s eta 0:00:01\n",
      "\u001b[?25hInstalling collected packages: threadpoolctl, joblib, scikit-learn\n",
      "  Found existing installation: scikit-learn 0.20.1\n",
      "    Uninstalling scikit-learn-0.20.1:\n",
      "      Successfully uninstalled scikit-learn-0.20.1\n",
      "Successfully installed joblib-1.0.1 scikit-learn-0.23.1 threadpoolctl-2.1.0\n"
     ]
    }
   ],
   "source": [
    "!pip install scikit-learn==0.23.1"
   ]
  },
  {
   "cell_type": "markdown",
   "metadata": {
    "button": false,
    "new_sheet": false,
    "run_control": {
     "read_only": false
    }
   },
   "source": [
    "Let's first import required libraries:\n"
   ]
  },
  {
   "cell_type": "code",
   "execution_count": 3,
   "metadata": {
    "button": false,
    "new_sheet": false,
    "run_control": {
     "read_only": false
    }
   },
   "outputs": [],
   "source": [
    "import pandas as pd\n",
    "import pylab as pl\n",
    "import numpy as np\n",
    "import scipy.optimize as opt\n",
    "from sklearn import preprocessing\n",
    "%matplotlib inline \n",
    "import matplotlib.pyplot as plt"
   ]
  },
  {
   "cell_type": "markdown",
   "metadata": {
    "button": false,
    "new_sheet": false,
    "run_control": {
     "read_only": false
    }
   },
   "source": [
    "### Load the Data Avilable"
   ]
  },
  {
   "cell_type": "code",
   "execution_count": 3,
   "metadata": {
    "button": false,
    "new_sheet": false,
    "run_control": {
     "read_only": false
    }
   },
   "outputs": [
    {
     "name": "stdout",
     "output_type": "stream",
     "text": [
      "--2021-06-13 12:14:35--  https://cf-courses-data.s3.us.cloud-object-storage.appdomain.cloud/IBMDeveloperSkillsNetwork-ML0101EN-SkillsNetwork/labs/Module%203/data/ChurnData.csv\n",
      "Resolving cf-courses-data.s3.us.cloud-object-storage.appdomain.cloud (cf-courses-data.s3.us.cloud-object-storage.appdomain.cloud)... 169.45.118.108\n",
      "Connecting to cf-courses-data.s3.us.cloud-object-storage.appdomain.cloud (cf-courses-data.s3.us.cloud-object-storage.appdomain.cloud)|169.45.118.108|:443... connected.\n",
      "HTTP request sent, awaiting response... 200 OK\n",
      "Length: 35943 (35K) [text/csv]\n",
      "Saving to: ‘ChurnData.csv’\n",
      "\n",
      "ChurnData.csv       100%[===================>]  35.10K  --.-KB/s    in 0.07s   \n",
      "\n",
      "2021-06-13 12:14:35 (505 KB/s) - ‘ChurnData.csv’ saved [35943/35943]\n",
      "\n"
     ]
    }
   ],
   "source": [
    "#Click here and press Shift+Enter\n",
    "!wget -O ChurnData.csv https://cf-courses-data.s3.us.cloud-object-storage.appdomain.cloud/IBMDeveloperSkillsNetwork-ML0101EN-SkillsNetwork/labs/Module%203/data/ChurnData.csv"
   ]
  },
  {
   "cell_type": "markdown",
   "metadata": {
    "button": false,
    "new_sheet": false,
    "run_control": {
     "read_only": false
    }
   },
   "source": [
    "## Load Data From CSV File\n"
   ]
  },
  {
   "cell_type": "code",
   "execution_count": 4,
   "metadata": {
    "button": false,
    "new_sheet": false,
    "run_control": {
     "read_only": false
    }
   },
   "outputs": [
    {
     "data": {
      "text/html": [
       "<div>\n",
       "<style scoped>\n",
       "    .dataframe tbody tr th:only-of-type {\n",
       "        vertical-align: middle;\n",
       "    }\n",
       "\n",
       "    .dataframe tbody tr th {\n",
       "        vertical-align: top;\n",
       "    }\n",
       "\n",
       "    .dataframe thead th {\n",
       "        text-align: right;\n",
       "    }\n",
       "</style>\n",
       "<table border=\"1\" class=\"dataframe\">\n",
       "  <thead>\n",
       "    <tr style=\"text-align: right;\">\n",
       "      <th></th>\n",
       "      <th>CandidateRef</th>\n",
       "      <th>DOJEx</th>\n",
       "      <th>Duration</th>\n",
       "      <th>Notice</th>\n",
       "      <th>Band</th>\n",
       "      <th>PercentExpected</th>\n",
       "      <th>PercentOffered</th>\n",
       "      <th>PercentDiff</th>\n",
       "      <th>JoiningBonus</th>\n",
       "      <th>CandidateRelocate</th>\n",
       "      <th>Gender</th>\n",
       "      <th>CandidateSource</th>\n",
       "      <th>Experience</th>\n",
       "      <th>LOB</th>\n",
       "      <th>Location</th>\n",
       "      <th>Age</th>\n",
       "      <th>Status</th>\n",
       "    </tr>\n",
       "  </thead>\n",
       "  <tbody>\n",
       "    <tr>\n",
       "      <th>0</th>\n",
       "      <td>2110407</td>\n",
       "      <td>1</td>\n",
       "      <td>14</td>\n",
       "      <td>30</td>\n",
       "      <td>2</td>\n",
       "      <td>-20.79</td>\n",
       "      <td>13.16</td>\n",
       "      <td>42.86</td>\n",
       "      <td>0</td>\n",
       "      <td>0</td>\n",
       "      <td>1</td>\n",
       "      <td>0</td>\n",
       "      <td>7</td>\n",
       "      <td>6</td>\n",
       "      <td>9</td>\n",
       "      <td>34</td>\n",
       "      <td>1</td>\n",
       "    </tr>\n",
       "    <tr>\n",
       "      <th>1</th>\n",
       "      <td>2112635</td>\n",
       "      <td>0</td>\n",
       "      <td>18</td>\n",
       "      <td>30</td>\n",
       "      <td>2</td>\n",
       "      <td>50.00</td>\n",
       "      <td>320.00</td>\n",
       "      <td>180.00</td>\n",
       "      <td>0</td>\n",
       "      <td>0</td>\n",
       "      <td>0</td>\n",
       "      <td>2</td>\n",
       "      <td>8</td>\n",
       "      <td>9</td>\n",
       "      <td>2</td>\n",
       "      <td>34</td>\n",
       "      <td>1</td>\n",
       "    </tr>\n",
       "    <tr>\n",
       "      <th>2</th>\n",
       "      <td>2112838</td>\n",
       "      <td>0</td>\n",
       "      <td>3</td>\n",
       "      <td>45</td>\n",
       "      <td>2</td>\n",
       "      <td>42.84</td>\n",
       "      <td>42.84</td>\n",
       "      <td>0.00</td>\n",
       "      <td>0</td>\n",
       "      <td>0</td>\n",
       "      <td>0</td>\n",
       "      <td>0</td>\n",
       "      <td>4</td>\n",
       "      <td>9</td>\n",
       "      <td>9</td>\n",
       "      <td>27</td>\n",
       "      <td>1</td>\n",
       "    </tr>\n",
       "    <tr>\n",
       "      <th>3</th>\n",
       "      <td>2115021</td>\n",
       "      <td>0</td>\n",
       "      <td>26</td>\n",
       "      <td>30</td>\n",
       "      <td>2</td>\n",
       "      <td>42.84</td>\n",
       "      <td>42.84</td>\n",
       "      <td>0.00</td>\n",
       "      <td>0</td>\n",
       "      <td>0</td>\n",
       "      <td>0</td>\n",
       "      <td>2</td>\n",
       "      <td>4</td>\n",
       "      <td>9</td>\n",
       "      <td>9</td>\n",
       "      <td>34</td>\n",
       "      <td>1</td>\n",
       "    </tr>\n",
       "    <tr>\n",
       "      <th>4</th>\n",
       "      <td>2115125</td>\n",
       "      <td>1</td>\n",
       "      <td>1</td>\n",
       "      <td>120</td>\n",
       "      <td>2</td>\n",
       "      <td>42.59</td>\n",
       "      <td>42.59</td>\n",
       "      <td>0.00</td>\n",
       "      <td>0</td>\n",
       "      <td>1</td>\n",
       "      <td>0</td>\n",
       "      <td>2</td>\n",
       "      <td>6</td>\n",
       "      <td>9</td>\n",
       "      <td>9</td>\n",
       "      <td>34</td>\n",
       "      <td>1</td>\n",
       "    </tr>\n",
       "  </tbody>\n",
       "</table>\n",
       "</div>"
      ],
      "text/plain": [
       "   CandidateRef  DOJEx  Duration  Notice  Band  PercentExpected  \\\n",
       "0       2110407      1        14      30     2           -20.79   \n",
       "1       2112635      0        18      30     2            50.00   \n",
       "2       2112838      0         3      45     2            42.84   \n",
       "3       2115021      0        26      30     2            42.84   \n",
       "4       2115125      1         1     120     2            42.59   \n",
       "\n",
       "   PercentOffered  PercentDiff  JoiningBonus  CandidateRelocate  Gender  \\\n",
       "0           13.16        42.86             0                  0       1   \n",
       "1          320.00       180.00             0                  0       0   \n",
       "2           42.84         0.00             0                  0       0   \n",
       "3           42.84         0.00             0                  0       0   \n",
       "4           42.59         0.00             0                  1       0   \n",
       "\n",
       "   CandidateSource  Experience  LOB  Location  Age  Status  \n",
       "0                0           7    6         9   34       1  \n",
       "1                2           8    9         2   34       1  \n",
       "2                0           4    9         9   27       1  \n",
       "3                2           4    9         9   34       1  \n",
       "4                2           6    9         9   34       1  "
      ]
     },
     "execution_count": 4,
     "metadata": {},
     "output_type": "execute_result"
    }
   ],
   "source": [
    "hr_df = pd.read_csv(\"HRData.csv\")\n",
    "hr_df.head()"
   ]
  },
  {
   "cell_type": "markdown",
   "metadata": {},
   "source": [
    "<h2 id=\"preprocessing\">Data pre-processing and selection</h2>\n"
   ]
  },
  {
   "cell_type": "markdown",
   "metadata": {},
   "source": [
    "Let's select some features for the modeling. Also, we change the target data type to be an integer, as it is a requirement by the skitlearn algorithm:\n"
   ]
  },
  {
   "cell_type": "code",
   "execution_count": 5,
   "metadata": {},
   "outputs": [
    {
     "data": {
      "text/html": [
       "<div>\n",
       "<style scoped>\n",
       "    .dataframe tbody tr th:only-of-type {\n",
       "        vertical-align: middle;\n",
       "    }\n",
       "\n",
       "    .dataframe tbody tr th {\n",
       "        vertical-align: top;\n",
       "    }\n",
       "\n",
       "    .dataframe thead th {\n",
       "        text-align: right;\n",
       "    }\n",
       "</style>\n",
       "<table border=\"1\" class=\"dataframe\">\n",
       "  <thead>\n",
       "    <tr style=\"text-align: right;\">\n",
       "      <th></th>\n",
       "      <th>tenure</th>\n",
       "      <th>age</th>\n",
       "      <th>address</th>\n",
       "      <th>income</th>\n",
       "      <th>ed</th>\n",
       "      <th>employ</th>\n",
       "      <th>equip</th>\n",
       "      <th>callcard</th>\n",
       "      <th>wireless</th>\n",
       "      <th>churn</th>\n",
       "    </tr>\n",
       "  </thead>\n",
       "  <tbody>\n",
       "    <tr>\n",
       "      <th>0</th>\n",
       "      <td>11.0</td>\n",
       "      <td>33.0</td>\n",
       "      <td>7.0</td>\n",
       "      <td>136.0</td>\n",
       "      <td>5.0</td>\n",
       "      <td>5.0</td>\n",
       "      <td>0.0</td>\n",
       "      <td>1.0</td>\n",
       "      <td>1.0</td>\n",
       "      <td>1</td>\n",
       "    </tr>\n",
       "    <tr>\n",
       "      <th>1</th>\n",
       "      <td>33.0</td>\n",
       "      <td>33.0</td>\n",
       "      <td>12.0</td>\n",
       "      <td>33.0</td>\n",
       "      <td>2.0</td>\n",
       "      <td>0.0</td>\n",
       "      <td>0.0</td>\n",
       "      <td>0.0</td>\n",
       "      <td>0.0</td>\n",
       "      <td>1</td>\n",
       "    </tr>\n",
       "    <tr>\n",
       "      <th>2</th>\n",
       "      <td>23.0</td>\n",
       "      <td>30.0</td>\n",
       "      <td>9.0</td>\n",
       "      <td>30.0</td>\n",
       "      <td>1.0</td>\n",
       "      <td>2.0</td>\n",
       "      <td>0.0</td>\n",
       "      <td>0.0</td>\n",
       "      <td>0.0</td>\n",
       "      <td>0</td>\n",
       "    </tr>\n",
       "    <tr>\n",
       "      <th>3</th>\n",
       "      <td>38.0</td>\n",
       "      <td>35.0</td>\n",
       "      <td>5.0</td>\n",
       "      <td>76.0</td>\n",
       "      <td>2.0</td>\n",
       "      <td>10.0</td>\n",
       "      <td>1.0</td>\n",
       "      <td>1.0</td>\n",
       "      <td>1.0</td>\n",
       "      <td>0</td>\n",
       "    </tr>\n",
       "    <tr>\n",
       "      <th>4</th>\n",
       "      <td>7.0</td>\n",
       "      <td>35.0</td>\n",
       "      <td>14.0</td>\n",
       "      <td>80.0</td>\n",
       "      <td>2.0</td>\n",
       "      <td>15.0</td>\n",
       "      <td>0.0</td>\n",
       "      <td>1.0</td>\n",
       "      <td>0.0</td>\n",
       "      <td>0</td>\n",
       "    </tr>\n",
       "  </tbody>\n",
       "</table>\n",
       "</div>"
      ],
      "text/plain": [
       "   tenure   age  address  income   ed  employ  equip  callcard  wireless  \\\n",
       "0    11.0  33.0      7.0   136.0  5.0     5.0    0.0       1.0       1.0   \n",
       "1    33.0  33.0     12.0    33.0  2.0     0.0    0.0       0.0       0.0   \n",
       "2    23.0  30.0      9.0    30.0  1.0     2.0    0.0       0.0       0.0   \n",
       "3    38.0  35.0      5.0    76.0  2.0    10.0    1.0       1.0       1.0   \n",
       "4     7.0  35.0     14.0    80.0  2.0    15.0    0.0       1.0       0.0   \n",
       "\n",
       "   churn  \n",
       "0      1  \n",
       "1      1  \n",
       "2      0  \n",
       "3      0  \n",
       "4      0  "
      ]
     },
     "execution_count": 5,
     "metadata": {},
     "output_type": "execute_result"
    }
   ],
   "source": [
    "churn_df = churn_df[['tenure', 'age', 'address', 'income', 'ed', 'employ', 'equip',   'callcard', 'wireless','churn']]\n",
    "churn_df['churn'] = churn_df['churn'].astype('int')\n",
    "churn_df.head()"
   ]
  },
  {
   "cell_type": "markdown",
   "metadata": {
    "button": true,
    "new_sheet": true,
    "run_control": {
     "read_only": false
    }
   },
   "source": [
    "## Practice\n",
    "\n",
    "How many rows and columns are in this dataset in total? What are the names of columns?\n"
   ]
  },
  {
   "cell_type": "code",
   "execution_count": 5,
   "metadata": {
    "button": false,
    "new_sheet": false,
    "run_control": {
     "read_only": false
    }
   },
   "outputs": [
    {
     "data": {
      "text/plain": [
       "(11430, 17)"
      ]
     },
     "execution_count": 5,
     "metadata": {},
     "output_type": "execute_result"
    }
   ],
   "source": [
    "# write your code here\n",
    "hr_df.shape"
   ]
  },
  {
   "cell_type": "markdown",
   "metadata": {},
   "source": [
    "Let's define X, and y for our dataset:\n"
   ]
  },
  {
   "cell_type": "code",
   "execution_count": 7,
   "metadata": {},
   "outputs": [
    {
     "data": {
      "text/plain": [
       "array([[  1.  ,  14.  ,  30.  ,   2.  , -20.79,  13.16,  42.86,   0.  ,\n",
       "          0.  ,   1.  ,   0.  ,   7.  ,   6.  ,   9.  ,  34.  ],\n",
       "       [  0.  ,  18.  ,  30.  ,   2.  ,  50.  , 320.  , 180.  ,   0.  ,\n",
       "          0.  ,   0.  ,   2.  ,   8.  ,   9.  ,   2.  ,  34.  ],\n",
       "       [  0.  ,   3.  ,  45.  ,   2.  ,  42.84,  42.84,   0.  ,   0.  ,\n",
       "          0.  ,   0.  ,   0.  ,   4.  ,   9.  ,   9.  ,  27.  ],\n",
       "       [  0.  ,  26.  ,  30.  ,   2.  ,  42.84,  42.84,   0.  ,   0.  ,\n",
       "          0.  ,   0.  ,   2.  ,   4.  ,   9.  ,   9.  ,  34.  ],\n",
       "       [  1.  ,   1.  , 120.  ,   2.  ,  42.59,  42.59,   0.  ,   0.  ,\n",
       "          1.  ,   0.  ,   2.  ,   6.  ,   9.  ,   9.  ,  34.  ]])"
      ]
     },
     "execution_count": 7,
     "metadata": {},
     "output_type": "execute_result"
    }
   ],
   "source": [
    "X = np.asarray(hr_df[['DOJEx', 'Duration', 'Notice', 'Band', 'PercentExpected', 'PercentOffered', 'PercentDiff', 'JoiningBonus', 'CandidateRelocate', 'Gender', 'CandidateSource', 'Experience', 'LOB', 'Location', 'Age']])\n",
    "X[0:5]"
   ]
  },
  {
   "cell_type": "code",
   "execution_count": 8,
   "metadata": {},
   "outputs": [
    {
     "data": {
      "text/plain": [
       "array([1, 1, 1, 1, 1, 1, 1, 0, 1, 0, 1, 1, 0, 1, 0, 0, 0, 1, 0, 1, 1, 1,\n",
       "       1, 1, 1, 1, 1, 0, 1, 1])"
      ]
     },
     "execution_count": 8,
     "metadata": {},
     "output_type": "execute_result"
    }
   ],
   "source": [
    "y = np.asarray(hr_df['Status'])\n",
    "y [0:30]"
   ]
  },
  {
   "cell_type": "markdown",
   "metadata": {},
   "source": [
    "Also, we normalize the dataset:\n"
   ]
  },
  {
   "cell_type": "code",
   "execution_count": 9,
   "metadata": {},
   "outputs": [
    {
     "data": {
      "text/plain": [
       "array([[ 1.16102836e+00, -1.15595712e-01, -3.21005489e-01,\n",
       "         8.60746686e-01, -2.12282257e+00, -6.94490582e-01,\n",
       "         2.24279516e+00, -2.16331129e-01, -3.71931224e-01,\n",
       "         2.13146944e+00, -1.37273801e+00,  1.01815903e+00,\n",
       "         1.70358966e-01,  1.31310386e+00,  8.94016767e-01],\n",
       "       [-8.61305403e-01,  4.68208815e-02, -3.21005489e-01,\n",
       "         8.60746686e-01,  2.75072743e-01,  7.93096207e+00,\n",
       "         9.08568856e+00, -2.16331129e-01, -3.71931224e-01,\n",
       "        -4.69159905e-01,  1.66744711e+00,  1.37868934e+00,\n",
       "         1.14250224e+00, -6.99721640e-01,  8.94016767e-01],\n",
       "       [-8.61305403e-01, -5.62241344e-01,  3.04692454e-01,\n",
       "         8.60746686e-01,  3.25394689e-02,  1.39831653e-01,\n",
       "         1.04203863e-01, -2.16331129e-01, -3.71931224e-01,\n",
       "        -4.69159905e-01, -1.37273801e+00, -6.34318851e-02,\n",
       "         1.14250224e+00,  1.31310386e+00, -8.01656510e-01],\n",
       "       [-8.61305403e-01,  3.71654068e-01, -3.21005489e-01,\n",
       "         8.60746686e-01,  3.25394689e-02,  1.39831653e-01,\n",
       "         1.04203863e-01, -2.16331129e-01, -3.71931224e-01,\n",
       "        -4.69159905e-01,  1.66744711e+00, -6.34318851e-02,\n",
       "         1.14250224e+00,  1.31310386e+00,  8.94016767e-01],\n",
       "       [ 1.16102836e+00, -6.43449641e-01,  3.43318217e+00,\n",
       "         8.60746686e-01,  2.40711284e-02,  1.32804007e-01,\n",
       "         1.04203863e-01, -2.16331129e-01,  2.68866913e+00,\n",
       "        -4.69159905e-01,  1.66744711e+00,  6.57628728e-01,\n",
       "         1.14250224e+00,  1.31310386e+00,  8.94016767e-01],\n",
       "       [ 1.16102836e+00,  6.21673313e-03, -3.21005489e-01,\n",
       "        -4.59835142e-01,  3.22007353e-02,  1.39550548e-01,\n",
       "         1.04203863e-01, -2.16331129e-01, -3.71931224e-01,\n",
       "        -4.69159905e-01,  1.66744711e+00, -7.84492498e-01,\n",
       "         1.14250224e+00,  1.31310386e+00,  8.94016767e-01],\n",
       "       [ 1.16102836e+00,  8.18299701e-01, -3.21005489e-01,\n",
       "         8.60746686e-01, -3.48874590e-01, -1.76693561e-01,\n",
       "         1.04203863e-01, -2.16331129e-01, -3.71931224e-01,\n",
       "        -4.69159905e-01,  1.66744711e+00,  1.01815903e+00,\n",
       "         1.14250224e+00,  1.31310386e+00,  4.09538688e-01],\n",
       "       [-8.61305403e-01, -6.84053789e-01,  3.04692454e-01,\n",
       "         8.60746686e-01, -6.36608798e-02,  4.80056705e+00,\n",
       "         6.11431404e+00, -2.16331129e-01, -3.71931224e-01,\n",
       "        -4.69159905e-01,  1.66744711e+00, -6.34318851e-02,\n",
       "         1.14250224e+00,  1.31310386e+00,  8.94016767e-01],\n",
       "       [ 1.16102836e+00, -3.43874152e-02, -1.57240138e+00,\n",
       "        -4.59835142e-01, -2.09606261e+00, -1.62663766e+00,\n",
       "         1.04203863e-01, -2.16331129e-01, -3.71931224e-01,\n",
       "         2.13146944e+00,  1.47354554e-01,  1.37868934e+00,\n",
       "         8.18454485e-01,  1.31310386e+00,  8.94016767e-01],\n",
       "       [-8.61305403e-01, -6.84053789e-01, -3.21005489e-01,\n",
       "        -4.59835142e-01, -1.38472201e+00, -2.50846679e+00,\n",
       "        -2.67556565e+00, -2.16331129e-01, -3.71931224e-01,\n",
       "        -4.69159905e-01,  1.47354554e-01, -6.34318851e-02,\n",
       "         1.70358966e-01,  1.31310386e+00,  8.94016767e-01],\n",
       "       [-8.61305403e-01, -6.43449641e-01, -3.21005489e-01,\n",
       "        -4.59835142e-01, -2.17126148e+00, -1.68904317e+00,\n",
       "         1.04203863e-01, -2.16331129e-01, -3.71931224e-01,\n",
       "         2.13146944e+00,  1.66744711e+00, -4.23962192e-01,\n",
       "        -1.44987983e+00,  1.62917859e-01, -1.04389555e+00],\n",
       "       [-8.61305403e-01, -4.40428899e-01, -3.21005489e-01,\n",
       "        -4.59835142e-01,  6.71101157e+00,  5.11990332e+00,\n",
       "        -1.89191304e-01, -2.16331129e-01, -3.71931224e-01,\n",
       "        -4.69159905e-01,  1.66744711e+00, -4.23962192e-01,\n",
       "        -4.77736552e-01, -6.99721640e-01,  8.94016767e-01],\n",
       "       [-8.61305403e-01,  4.18844402e+00, -3.21005489e-01,\n",
       "         8.60746686e-01, -1.24042148e+00, -2.76595977e+00,\n",
       "        -3.01436721e+00, -2.16331129e-01, -3.71931224e-01,\n",
       "        -4.69159905e-01,  1.66744711e+00, -4.23962192e-01,\n",
       "         1.14250224e+00,  1.31310386e+00,  8.94016767e-01],\n",
       "       [-8.61305403e-01, -5.62241344e-01, -1.57240138e+00,\n",
       "         8.60746686e-01, -4.63027821e-01, -1.92742714e-02,\n",
       "         4.53483823e-01, -2.16331129e-01, -3.71931224e-01,\n",
       "        -4.69159905e-01,  1.66744711e+00,  1.01815903e+00,\n",
       "         1.14250224e+00, -6.99721640e-01,  8.94016767e-01],\n",
       "       [ 1.16102836e+00, -1.15595712e-01, -3.21005489e-01,\n",
       "         8.60746686e-01,  2.75072743e-01,  7.01736798e+00,\n",
       "         8.00441759e+00, -2.16331129e-01, -3.71931224e-01,\n",
       "        -4.69159905e-01, -1.37273801e+00,  1.01815903e+00,\n",
       "         1.14250224e+00,  1.31310386e+00, -3.17178431e-01]])"
      ]
     },
     "execution_count": 9,
     "metadata": {},
     "output_type": "execute_result"
    }
   ],
   "source": [
    "from sklearn import preprocessing\n",
    "X = preprocessing.StandardScaler().fit(X).transform(X)\n",
    "X[0:15]"
   ]
  },
  {
   "cell_type": "markdown",
   "metadata": {},
   "source": [
    "## Train/Test dataset\n"
   ]
  },
  {
   "cell_type": "markdown",
   "metadata": {},
   "source": [
    "We split our dataset into train and test set:\n"
   ]
  },
  {
   "cell_type": "code",
   "execution_count": 10,
   "metadata": {},
   "outputs": [
    {
     "name": "stdout",
     "output_type": "stream",
     "text": [
      "Train set: (9144, 15) (9144,)\n",
      "Test set: (2286, 15) (2286,)\n"
     ]
    }
   ],
   "source": [
    "from sklearn.model_selection import train_test_split\n",
    "X_train, X_test, y_train, y_test = train_test_split( X, y, test_size=0.2, random_state=4)\n",
    "print ('Train set:', X_train.shape,  y_train.shape)\n",
    "print ('Test set:', X_test.shape,  y_test.shape)"
   ]
  },
  {
   "cell_type": "markdown",
   "metadata": {},
   "source": [
    "<h2 id=\"modeling\">Modeling (Logistic Regression with Scikit-learn)</h2>\n"
   ]
  },
  {
   "cell_type": "markdown",
   "metadata": {},
   "source": [
    "Let's build our model using **LogisticRegression** from the Scikit-learn package. This function implements logistic regression and can use different numerical optimizers to find parameters, including ‘newton-cg’, ‘lbfgs’, ‘liblinear’, ‘sag’, ‘saga’ solvers. You can find extensive information about the pros and cons of these optimizers if you search it in the internet.\n",
    "\n",
    "The version of Logistic Regression in Scikit-learn, support regularization. Regularization is a technique used to solve the overfitting problem of machine learning models.\n",
    "**C** parameter indicates **inverse of regularization strength** which must be a positive float. Smaller values specify stronger regularization.\n",
    "Now let's fit our model with train set:\n"
   ]
  },
  {
   "cell_type": "code",
   "execution_count": 11,
   "metadata": {},
   "outputs": [
    {
     "data": {
      "text/plain": [
       "LogisticRegression(C=0.01, solver='liblinear')"
      ]
     },
     "execution_count": 11,
     "metadata": {},
     "output_type": "execute_result"
    }
   ],
   "source": [
    "from sklearn.linear_model import LogisticRegression\n",
    "from sklearn.metrics import confusion_matrix\n",
    "LR = LogisticRegression(C=0.01, solver='liblinear').fit(X_train,y_train)\n",
    "LR"
   ]
  },
  {
   "cell_type": "markdown",
   "metadata": {},
   "source": [
    "Now we can predict using our test set:\n"
   ]
  },
  {
   "cell_type": "code",
   "execution_count": 12,
   "metadata": {},
   "outputs": [
    {
     "data": {
      "text/plain": [
       "array([1, 1, 1, ..., 1, 1, 1])"
      ]
     },
     "execution_count": 12,
     "metadata": {},
     "output_type": "execute_result"
    }
   ],
   "source": [
    "yhat = LR.predict(X_test)\n",
    "yhat"
   ]
  },
  {
   "cell_type": "markdown",
   "metadata": {},
   "source": [
    "**predict_proba**  returns estimates for all classes, ordered by the label of classes. So, the first column is the probability of class 0, P(Y=0|X), and second column is probability of class 1, P(Y=1|X):\n"
   ]
  },
  {
   "cell_type": "code",
   "execution_count": 13,
   "metadata": {},
   "outputs": [
    {
     "data": {
      "text/plain": [
       "array([[0.12788206, 0.87211794],\n",
       "       [0.15079667, 0.84920333],\n",
       "       [0.36995596, 0.63004404],\n",
       "       ...,\n",
       "       [0.28647002, 0.71352998],\n",
       "       [0.11776492, 0.88223508],\n",
       "       [0.31798411, 0.68201589]])"
      ]
     },
     "execution_count": 13,
     "metadata": {},
     "output_type": "execute_result"
    }
   ],
   "source": [
    "yhat_prob = LR.predict_proba(X_test)\n",
    "yhat_prob"
   ]
  },
  {
   "cell_type": "markdown",
   "metadata": {},
   "source": [
    "<h2 id=\"evaluation\">Evaluation</h2>\n"
   ]
  },
  {
   "cell_type": "markdown",
   "metadata": {},
   "source": [
    "### jaccard index\n",
    "\n",
    "Let's try the jaccard index for accuracy evaluation. we can define jaccard as the size of the intersection divided by the size of the union of the two label sets. If the entire set of predicted labels for a sample strictly match with the true set of labels, then the subset accuracy is 1.0; otherwise it is 0.0.\n"
   ]
  },
  {
   "cell_type": "code",
   "execution_count": 14,
   "metadata": {},
   "outputs": [
    {
     "data": {
      "text/plain": [
       "0.2391891891891892"
      ]
     },
     "execution_count": 14,
     "metadata": {},
     "output_type": "execute_result"
    }
   ],
   "source": [
    "from sklearn.metrics import jaccard_score\n",
    "jaccard_score(y_test, yhat,pos_label=0)"
   ]
  },
  {
   "cell_type": "markdown",
   "metadata": {},
   "source": [
    "### confusion matrix\n",
    "\n",
    "Another way of looking at the accuracy of the classifier is to look at **confusion matrix**.\n"
   ]
  },
  {
   "cell_type": "code",
   "execution_count": 19,
   "metadata": {},
   "outputs": [
    {
     "name": "stdout",
     "output_type": "stream",
     "text": [
      "[[1546   91]\n",
      " [ 472  177]]\n"
     ]
    }
   ],
   "source": [
    "from sklearn.metrics import classification_report, confusion_matrix\n",
    "import itertools\n",
    "def plot_confusion_matrix(cm, classes,\n",
    "                          normalize=False,\n",
    "                          title='Confusion matrix',\n",
    "                          cmap=plt.cm.Blues):\n",
    "    \"\"\"\n",
    "    This function prints and plots the confusion matrix.\n",
    "    Normalization can be applied by setting `normalize=True`.\n",
    "    \"\"\"\n",
    "    if normalize:\n",
    "        cm = cm.astype('float') / cm.sum(axis=1)[:, np.newaxis]\n",
    "        print(\"Normalized confusion matrix\")\n",
    "    else:\n",
    "        print('Confusion matrix, without normalization')\n",
    "\n",
    "    print(cm)\n",
    "\n",
    "    plt.imshow(cm, interpolation='nearest', cmap=cmap)\n",
    "    plt.title(title)\n",
    "    plt.colorbar()\n",
    "    tick_marks = np.arange(len(classes))\n",
    "    plt.xticks(tick_marks, classes, rotation=45)\n",
    "    plt.yticks(tick_marks, classes)\n",
    "\n",
    "    fmt = '.2f' if normalize else 'd'\n",
    "    thresh = cm.max() / 2.\n",
    "    for i, j in itertools.product(range(cm.shape[0]), range(cm.shape[1])):\n",
    "        plt.text(j, i, format(cm[i, j], fmt),\n",
    "                 horizontalalignment=\"center\",\n",
    "                 color=\"white\" if cm[i, j] > thresh else \"black\")\n",
    "\n",
    "    plt.tight_layout()\n",
    "    plt.ylabel('True label')\n",
    "    plt.xlabel('Predicted label')\n",
    "print(confusion_matrix(y_test, yhat, labels=[1,0]))"
   ]
  },
  {
   "cell_type": "code",
   "execution_count": 20,
   "metadata": {},
   "outputs": [
    {
     "name": "stdout",
     "output_type": "stream",
     "text": [
      "Confusion matrix, without normalization\n",
      "[[1546   91]\n",
      " [ 472  177]]\n"
     ]
    },
    {
     "data": {
      "image/png": "[encoded data removed]",
      "text/plain": [
       "<Figure size 432x288 with 2 Axes>"
      ]
     },
     "metadata": {
      "needs_background": "light"
     },
     "output_type": "display_data"
    }
   ],
   "source": [
    "# Compute confusion matrix\n",
    "cnf_matrix = confusion_matrix(y_test, yhat, labels=[1,0])\n",
    "np.set_printoptions(precision=2)\n",
    "\n",
    "\n",
    "# Plot non-normalized confusion matrix\n",
    "plt.figure()\n",
    "plot_confusion_matrix(cnf_matrix, classes=['status=1','status=0'],normalize= False,  title='Confusion matrix')"
   ]
  },
  {
   "cell_type": "markdown",
   "metadata": {},
   "source": [
    "The first row is for candidates whose actual status in the test set is 1 (Joined). As you can calculate, out of 2286 candidates, the status of 1637 of them is 1(Joined). Out of these 1637 cases, the classifier correctly predicted 1546 of them as 1 (Joined), and 91 of them as 0 (Not Joined).\n",
    "\n",
    "This means, for 1546 candidates, the actual status was 1 (Joined) in test set and classifier also correctly predicted those as 1 (Joined). However, while the actual label of 91 customers was 1 (Joined), the classifier predicted those as 0 (Not Joined), which is particularly good. We can consider it as the error of the model for first row.\n",
    "\n",
    "What about the candidates with status as 0 (Not Joined)? \n",
    "Let us look at the second row. It looks like there were 649 candidates whose churn value were 0 (Not Joined). The classifier correctly predicted 177 of them as 0 (Not Joined), and 472 of them wrongly as 1 (Joined). So, it has not done a good job in predicting the candidates with status as 0 (Not Joined).\n",
    "\n",
    " A good thing about the confusion matrix is that it shows the model’s ability to correctly predict or separate the classes. In a specific case of the binary classifier, such as this example, we can interpret these numbers as the count of true positives, false positives, true negatives, and false negatives."
   ]
  },
  {
   "cell_type": "code",
   "execution_count": 21,
   "metadata": {},
   "outputs": [
    {
     "name": "stdout",
     "output_type": "stream",
     "text": [
      "              precision    recall  f1-score   support\n",
      "\n",
      "           0       0.66      0.27      0.39       649\n",
      "           1       0.77      0.94      0.85      1637\n",
      "\n",
      "    accuracy                           0.75      2286\n",
      "   macro avg       0.71      0.61      0.62      2286\n",
      "weighted avg       0.74      0.75      0.72      2286\n",
      "\n"
     ]
    }
   ],
   "source": [
    "print (classification_report(y_test, yhat))\n"
   ]
  },
  {
   "cell_type": "markdown",
   "metadata": {},
   "source": [
    "Based on the count of each section, we can calculate precision and recall of each label:\n",
    "\n",
    "*   **Precision** is a measure of the accuracy provided that a class label has been predicted. It is defined by: precision = TP / (TP + FP)\n",
    "\n",
    "*   **Recall** is the true positive rate. It is defined as: Recall =  TP / (TP + FN)\n",
    "\n",
    "So, we can calculate the precision and recall of each class.\n",
    "\n",
    "**F1 score:**\n",
    "Now we are in the position to calculate the F1 scores for each label based on the precision and recall of that label.\n",
    "\n",
    "The F1 score is the harmonic average of the precision and recall, where an F1 score reaches its best value at 1 (perfect precision and recall) and worst at 0. It is a good way to show that a classifer has a good value for both recall and precision.\n",
    "\n",
    "Finally, we can tell the average accuracy for this classifier is the average of the F1-score for both labels, which is 0.72 in our case.\n"
   ]
  },
  {
   "cell_type": "markdown",
   "metadata": {},
   "source": [
    "### log loss\n",
    "\n",
    "Now, let's try **log loss** for evaluation. In logistic regression, the output can be the probability of customer churn is yes (or equals to 1). This probability is a value between 0 and 1.\n",
    "Log loss( Logarithmic loss) measures the performance of a classifier where the predicted output is a probability value between 0 and 1.\n"
   ]
  },
  {
   "cell_type": "code",
   "execution_count": 22,
   "metadata": {},
   "outputs": [
    {
     "data": {
      "text/plain": [
       "0.49689392156665135"
      ]
     },
     "execution_count": 22,
     "metadata": {},
     "output_type": "execute_result"
    }
   ],
   "source": [
    "from sklearn.metrics import log_loss\n",
    "log_loss(y_test, yhat_prob)"
   ]
  },
  {
   "cell_type": "markdown",
   "metadata": {},
   "source": [
    "**LOG LOSS Value**"
   ]
  },
  {
   "cell_type": "code",
   "execution_count": 23,
   "metadata": {},
   "outputs": [
    {
     "name": "stdout",
     "output_type": "stream",
     "text": [
      "LogLoss: : 0.50\n"
     ]
    }
   ],
   "source": [
    "# write your code here\n",
    "LR2 = LogisticRegression(C=0.01, solver='sag').fit(X_train,y_train)\n",
    "yhat_prob2 = LR2.predict_proba(X_test)\n",
    "print (\"LogLoss: : %.2f\" % log_loss(y_test, yhat_prob2))\n"
   ]
  }
 ],
 "metadata": {
  "kernelspec": {
   "display_name": "Python",
   "language": "python",
   "name": "conda-env-python-py"
  },
  "language_info": {
   "codemirror_mode": {
    "name": "ipython",
    "version": 3
   },
   "file_extension": ".py",
   "mimetype": "text/x-python",
   "name": "python",
   "nbconvert_exporter": "python",
   "pygments_lexer": "ipython3",
   "version": "3.6.13"
  },
  "widgets": {
   "state": {},
   "version": "1.1.2"
  }
 },
 "nbformat": 4,
 "nbformat_minor": 4
}
